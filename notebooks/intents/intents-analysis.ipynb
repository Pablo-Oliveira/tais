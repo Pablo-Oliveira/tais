{
 "cells": [
  {
   "cell_type": "markdown",
   "metadata": {
    "colab_type": "text",
    "id": "kO9wt2g3okLS"
   },
   "source": [
    "# Analisando o bot\n",
    "\n",
    "Este jupyter-notebook vai auxiliar na análise de detecção de intenções da Taís."
   ]
  },
  {
   "cell_type": "markdown",
   "metadata": {},
   "source": [
    "## Instalação\n",
    "\n",
    "### Configurando jupyter e instalando as dependências do bot"
   ]
  },
  {
   "cell_type": "code",
   "execution_count": 1,
   "metadata": {
    "scrolled": true
   },
   "outputs": [],
   "source": [
    "%matplotlib inline\n",
    "\n",
    "import logging, io, json, warnings\n",
    "logging.basicConfig(level=\"INFO\")\n",
    "warnings.filterwarnings('ignore')\n",
    "\n",
    "def pprint(o):\n",
    "    # small helper to make dict dumps a bit prettier\n",
    "    print(json.dumps(o, indent=2))"
   ]
  },
  {
   "cell_type": "markdown",
   "metadata": {},
   "source": [
    "### Listando versões"
   ]
  },
  {
   "cell_type": "code",
   "execution_count": 2,
   "metadata": {
    "scrolled": true
   },
   "outputs": [
    {
     "name": "stdout",
     "output_type": "stream",
     "text": [
      "rasa_nlu: 0.14.6\n"
     ]
    }
   ],
   "source": [
    "import rasa_nlu\n",
    "\n",
    "print(\"rasa_nlu: {}\".format(rasa_nlu.__version__))"
   ]
  },
  {
   "cell_type": "markdown",
   "metadata": {
    "colab_type": "text",
    "id": "1xeXgpdwzOAl"
   },
   "source": [
    "### Treinando o modelo do Rasa NLU"
   ]
  },
  {
   "cell_type": "markdown",
   "metadata": {},
   "source": [
    "Abaixo será feito o treinamento do Rasa NLU com as intents do coach. Em seguida será feita a avaliação das intents treinadas."
   ]
  },
  {
   "cell_type": "code",
   "execution_count": 6,
   "metadata": {
    "colab": {
     "autoexec": {
      "startup": false,
      "wait_interval": 0
     },
     "base_uri": "https://localhost:8080/",
     "height": 377
    },
    "colab_type": "code",
    "executionInfo": {
     "elapsed": 2821,
     "status": "ok",
     "timestamp": 1521380062879,
     "user": {
      "displayName": "Alexander Weidauer",
      "photoUrl": "//lh6.googleusercontent.com/-j4xnI5_PFWA/AAAAAAAAAAI/AAAAAAAAAAo/wPT2w5Bl3xg/s50-c-k-no/photo.jpg",
      "userId": "100444450157165144272"
     },
     "user_tz": -60
    },
    "id": "qHsAH49OePcM",
    "outputId": "f840c42d-acf2-4fbf-b439-e5a239ffb32b",
    "scrolled": false
   },
   "outputs": [
    {
     "name": "stderr",
     "output_type": "stream",
     "text": [
      "INFO:rasa_nlu.training_data.loading:Training data format of ../../bot/data/intents/processo.md is md\n",
      "INFO:rasa_nlu.training_data.training_data:Training data stats: \n",
      "\t- intent examples: 240 (19 distinct intents)\n",
      "\t- Found intents: 'processo_prazo_desarquivar', 'processo_prazo_readequacao', 'processo_reativacao_de_proposta', 'processo_prazo_apresentar_proposta', 'processo_prazo_analise_proposta', 'processo_preenchimento', 'processo_analise_de_resultados', 'processo_prazo_periodo_captacao', 'processo_prazo_desistir_recurso', 'processo_aprovacao', 'processo_prazo_envio_cnae', 'processo_definicao_etapas', 'processo_admissibilidade', 'processo_prazo', 'processo_como_funciona', 'processo_prazo_analise_tecnica', 'processo_prazo_prestacao_contas', 'processo_execucao', 'processo_prazo_diligencias'\n",
      "\t- entity examples: 0 (0 distinct entities)\n",
      "\t- found entities: \n",
      "\n",
      "INFO:rasa_nlu.training_data.loading:Training data format of ../../bot/data/intents/lei_rouanet.md is md\n",
      "INFO:rasa_nlu.training_data.training_data:Training data stats: \n",
      "\t- intent examples: 467 (25 distinct intents)\n",
      "\t- Found intents: 'lei_rouanet_divulgacao_patrocinio', 'lei_rouanet_apresentacao_de_proposta', 'lei_rouanet_analise_tecnica', 'lei_rouanet_remuneracao_proponente', 'lei_rouanet_decisao_final', 'lei_rouanet_porcentagem_de_deducao_do_imposto', 'lei_rouanet_origem_do_dinheiro', 'lei_rouanet_receber_incetivo_de_parentes', 'lei_rouanet_etapas_aprovacao_projeto', 'lei_rouanet_analise_pela_cnic', 'lei_rouanet_comercializacao_de_ingressos', 'lei_rouanet_valor_maximo_pessoa_juridica', 'lei_rouanet_valores_pagamento_caches', 'lei_rouanet_beneficios_incentivo_projetos_culturais', 'lei_rouanet_valor_maximo_projeto', 'lei_rouanet_quem_pode_incentivar', 'lei_rouanet_quantidade_de_projetos', 'lei_rouanet_o_que_eh', 'lei_rouanet_denuncia', 'lei_rouanet_valor_maximo_geral', 'lei_rouanet_democratizacao', 'lei_rouanet_promocao_de_marca', 'lei_rouanet_quem_pode_ser_proponente', 'lei_rouanet_valor_maximo_pessoa_fisica', 'lei_rouanet_analise_de_admissibilidade'\n",
      "\t- entity examples: 17 (1 distinct entities)\n",
      "\t- found entities: 'lei_rouanet'\n",
      "\n",
      "INFO:rasa_nlu.training_data.loading:Training data format of ../../bot/data/intents/captacao.md is md\n",
      "INFO:rasa_nlu.training_data.training_data:Training data stats: \n",
      "\t- intent examples: 43 (3 distinct intents)\n",
      "\t- Found intents: 'captacao_quando_captar', 'captacao', 'captacao_como_captar'\n",
      "\t- entity examples: 0 (0 distinct entities)\n",
      "\t- found entities: \n",
      "\n",
      "INFO:rasa_nlu.training_data.loading:Training data format of ../../bot/data/intents/definicoes.md is md\n",
      "INFO:rasa_nlu.training_data.training_data:Training data stats: \n",
      "\t- intent examples: 86 (9 distinct intents)\n",
      "\t- Found intents: 'definicao_projeto', 'definicao_cnic', 'definicao_proponente', 'definicao_sefic', 'definicao_proposta', 'definicao_tais', 'definicao_vinculada', 'definicao_salic', 'definicao_minc'\n",
      "\t- entity examples: 0 (0 distinct entities)\n",
      "\t- found entities: \n",
      "\n",
      "INFO:rasa_nlu.training_data.loading:Training data format of ../../bot/data/intents/geral.md is md\n",
      "INFO:rasa_nlu.training_data.training_data:Training data stats: \n",
      "\t- intent examples: 512 (13 distinct intents)\n",
      "\t- Found intents: 'o_que_sei_falar', 'afirmar', 'diga_mais', 'elogios', 'out_of_scope', 'erro_resposta_utter', 'negar', 'tudo_bem', 'quem_criou_a_tais', 'tem_wpp', 'cumprimentar', 'despedir', 'expressoes_indesejadas'\n",
      "\t- entity examples: 0 (0 distinct entities)\n",
      "\t- found entities: \n",
      "\n",
      "INFO:rasa_nlu.training_data.loading:Training data format of ../../bot/data/intents/salic.md is md\n",
      "INFO:rasa_nlu.training_data.training_data:Training data stats: \n",
      "\t- intent examples: 144 (14 distinct intents)\n",
      "\t- Found intents: 'salic_cadastro_proponente', 'salic_preenchimento', 'salic_cadastro_usuario', 'salic_preenchimento_campo_custo_auditoria', 'salic_erros_vinculo_cpf_cnpj', 'salic_recuperacao_de_senha', 'salic_erros', 'salic_erros_achar_proposta', 'salic_preenchimento_cadastro_rubrica_advogado_contador', 'salic_erros_planilha_desapareceu', 'salic_preenchimento_cadastro_agencia_bancaria', 'salic_preenchimento_valor_ingresso', 'salic_erros_salvamento_de_proposta', 'salic_preenchimento_vinculo_cpf_proposta'\n",
      "\t- entity examples: 0 (0 distinct entities)\n",
      "\t- found entities: \n",
      "\n",
      "INFO:rasa_nlu.training_data.training_data:Training data stats: \n",
      "\t- intent examples: 1492 (83 distinct intents)\n",
      "\t- Found intents: 'processo_reativacao_de_proposta', 'salic_cadastro_usuario', 'lei_rouanet_apresentacao_de_proposta', 'captacao_como_captar', 'definicao_vinculada', 'salic_preenchimento_valor_ingresso', 'lei_rouanet_beneficios_incentivo_projetos_culturais', 'processo_prazo_desistir_recurso', 'lei_rouanet_valores_pagamento_caches', 'salic_preenchimento_vinculo_cpf_proposta', 'processo_prazo_envio_cnae', 'lei_rouanet_quem_pode_incentivar', 'salic_recuperacao_de_senha', 'processo_prazo_prestacao_contas', 'lei_rouanet_valor_maximo_pessoa_fisica', 'lei_rouanet_analise_de_admissibilidade', 'definicao_tais', 'processo_prazo_diligencias', 'definicao_minc', 'o_que_sei_falar', 'salic_preenchimento_campo_custo_auditoria', 'definicao_projeto', 'definicao_cnic', 'salic_erros', 'lei_rouanet_remuneracao_proponente', 'elogios', 'lei_rouanet_receber_incetivo_de_parentes', 'out_of_scope', 'processo_prazo_analise_proposta', 'lei_rouanet_comercializacao_de_ingressos', 'processo_analise_de_resultados', 'salic_erros_achar_proposta', 'salic_erros_vinculo_cpf_cnpj', 'afirmar', 'processo_prazo_analise_tecnica', 'lei_rouanet_quem_pode_ser_proponente', 'definicao_sefic', 'negar', 'salic_preenchimento_cadastro_agencia_bancaria', 'definicao_salic', 'captacao_quando_captar', 'lei_rouanet_analise_tecnica', 'lei_rouanet_decisao_final', 'captacao', 'erro_resposta_utter', 'quem_criou_a_tais', 'tudo_bem', 'lei_rouanet_valor_maximo_projeto', 'processo_aprovacao', 'processo_prazo', 'processo_como_funciona', 'lei_rouanet_quantidade_de_projetos', 'despedir', 'processo_prazo_desarquivar', 'salic_preenchimento', 'processo_prazo_readequacao', 'lei_rouanet_divulgacao_patrocinio', 'processo_prazo_apresentar_proposta', 'lei_rouanet_porcentagem_de_deducao_do_imposto', 'lei_rouanet_origem_do_dinheiro', 'lei_rouanet_etapas_aprovacao_projeto', 'lei_rouanet_analise_pela_cnic', 'processo_preenchimento', 'tem_wpp', 'processo_prazo_periodo_captacao', 'cumprimentar', 'lei_rouanet_valor_maximo_pessoa_juridica', 'salic_erros_salvamento_de_proposta', 'processo_definicao_etapas', 'processo_admissibilidade', 'salic_cadastro_proponente', 'lei_rouanet_o_que_eh', 'diga_mais', 'lei_rouanet_denuncia', 'lei_rouanet_valor_maximo_geral', 'lei_rouanet_democratizacao', 'lei_rouanet_promocao_de_marca', 'definicao_proponente', 'processo_execucao', 'definicao_proposta', 'salic_preenchimento_cadastro_rubrica_advogado_contador', 'salic_erros_planilha_desapareceu', 'expressoes_indesejadas'\n",
      "\t- entity examples: 17 (1 distinct entities)\n",
      "\t- found entities: 'lei_rouanet'\n",
      "\n",
      "INFO:rasa_nlu.model:Starting to train component tokenizer_whitespace\n",
      "INFO:rasa_nlu.model:Finished training component.\n",
      "INFO:rasa_nlu.model:Starting to train component ner_crf\n",
      "INFO:rasa_nlu.model:Finished training component.\n",
      "INFO:rasa_nlu.model:Starting to train component ner_synonyms\n",
      "INFO:rasa_nlu.model:Finished training component.\n",
      "INFO:rasa_nlu.model:Starting to train component intent_featurizer_count_vectors\n",
      "INFO:rasa_nlu.model:Finished training component.\n",
      "INFO:rasa_nlu.model:Starting to train component intent_classifier_tensorflow_embedding\n",
      "INFO:rasa_nlu.classifiers.embedding_intent_classifier:Accuracy is updated every 10 epochs\n",
      "Epochs: 100%|██████████| 300/300 [01:42<00:00,  3.26it/s, loss=0.134, acc=0.999]\n",
      "INFO:rasa_nlu.classifiers.embedding_intent_classifier:Finished training embedding classifier, loss=0.134, train accuracy=0.999\n",
      "INFO:rasa_nlu.model:Finished training component.\n",
      "INFO:rasa_nlu.model:Successfully saved model into '/work/notebooks/intents/models/nlu/default/current'\n"
     ]
    }
   ],
   "source": [
    "import os\n",
    "\n",
    "from rasa_nlu.training_data import load_data\n",
    "from rasa_nlu.model import Trainer\n",
    "from rasa_nlu import config\n",
    "\n",
    "\n",
    "intents_directory = '../../bot/data/intents/'\n",
    "\n",
    "# loading the nlu training samples\n",
    "training_data = load_data(intents_directory)\n",
    "\n",
    "# trainer to educate our pipeline\n",
    "trainer = Trainer(config.load(\"../../bot/nlu_config.yml\"))\n",
    "\n",
    "# train the model!\n",
    "interpreter = trainer.train(training_data)\n",
    "\n",
    "# store it for future use\n",
    "model_directory = trainer.persist(\"./models/nlu\", fixed_model_name=\"current\")"
   ]
  },
  {
   "cell_type": "code",
   "execution_count": 7,
   "metadata": {},
   "outputs": [
    {
     "name": "stderr",
     "output_type": "stream",
     "text": [
      "INFO:tensorflow:Restoring parameters from /work/notebooks/intents/./models/nlu/default/current/intent_classifier_tensorflow_embedding.ckpt\n",
      "INFO:rasa_nlu.training_data.loading:Training data format of ../../bot/data/intents/processo.md is md\n",
      "INFO:rasa_nlu.training_data.training_data:Training data stats: \n",
      "\t- intent examples: 240 (19 distinct intents)\n",
      "\t- Found intents: 'processo_prazo_desarquivar', 'processo_prazo_readequacao', 'processo_reativacao_de_proposta', 'processo_prazo_apresentar_proposta', 'processo_prazo_analise_proposta', 'processo_preenchimento', 'processo_analise_de_resultados', 'processo_prazo_periodo_captacao', 'processo_prazo_desistir_recurso', 'processo_aprovacao', 'processo_prazo_envio_cnae', 'processo_definicao_etapas', 'processo_admissibilidade', 'processo_prazo', 'processo_como_funciona', 'processo_prazo_analise_tecnica', 'processo_prazo_prestacao_contas', 'processo_execucao', 'processo_prazo_diligencias'\n",
      "\t- entity examples: 0 (0 distinct entities)\n",
      "\t- found entities: \n",
      "\n",
      "INFO:rasa_nlu.training_data.loading:Training data format of ../../bot/data/intents/lei_rouanet.md is md\n",
      "INFO:rasa_nlu.training_data.training_data:Training data stats: \n",
      "\t- intent examples: 467 (25 distinct intents)\n",
      "\t- Found intents: 'lei_rouanet_divulgacao_patrocinio', 'lei_rouanet_apresentacao_de_proposta', 'lei_rouanet_analise_tecnica', 'lei_rouanet_remuneracao_proponente', 'lei_rouanet_decisao_final', 'lei_rouanet_porcentagem_de_deducao_do_imposto', 'lei_rouanet_origem_do_dinheiro', 'lei_rouanet_receber_incetivo_de_parentes', 'lei_rouanet_etapas_aprovacao_projeto', 'lei_rouanet_analise_pela_cnic', 'lei_rouanet_comercializacao_de_ingressos', 'lei_rouanet_valor_maximo_pessoa_juridica', 'lei_rouanet_valores_pagamento_caches', 'lei_rouanet_beneficios_incentivo_projetos_culturais', 'lei_rouanet_valor_maximo_projeto', 'lei_rouanet_quem_pode_incentivar', 'lei_rouanet_quantidade_de_projetos', 'lei_rouanet_o_que_eh', 'lei_rouanet_denuncia', 'lei_rouanet_valor_maximo_geral', 'lei_rouanet_democratizacao', 'lei_rouanet_promocao_de_marca', 'lei_rouanet_quem_pode_ser_proponente', 'lei_rouanet_valor_maximo_pessoa_fisica', 'lei_rouanet_analise_de_admissibilidade'\n",
      "\t- entity examples: 17 (1 distinct entities)\n",
      "\t- found entities: 'lei_rouanet'\n",
      "\n",
      "INFO:rasa_nlu.training_data.loading:Training data format of ../../bot/data/intents/captacao.md is md\n",
      "INFO:rasa_nlu.training_data.training_data:Training data stats: \n",
      "\t- intent examples: 43 (3 distinct intents)\n",
      "\t- Found intents: 'captacao_quando_captar', 'captacao', 'captacao_como_captar'\n",
      "\t- entity examples: 0 (0 distinct entities)\n",
      "\t- found entities: \n",
      "\n",
      "INFO:rasa_nlu.training_data.loading:Training data format of ../../bot/data/intents/definicoes.md is md\n",
      "INFO:rasa_nlu.training_data.training_data:Training data stats: \n",
      "\t- intent examples: 86 (9 distinct intents)\n",
      "\t- Found intents: 'definicao_projeto', 'definicao_cnic', 'definicao_proponente', 'definicao_sefic', 'definicao_proposta', 'definicao_tais', 'definicao_vinculada', 'definicao_salic', 'definicao_minc'\n",
      "\t- entity examples: 0 (0 distinct entities)\n",
      "\t- found entities: \n",
      "\n",
      "INFO:rasa_nlu.training_data.loading:Training data format of ../../bot/data/intents/geral.md is md\n",
      "INFO:rasa_nlu.training_data.training_data:Training data stats: \n",
      "\t- intent examples: 512 (13 distinct intents)\n",
      "\t- Found intents: 'o_que_sei_falar', 'afirmar', 'diga_mais', 'elogios', 'out_of_scope', 'erro_resposta_utter', 'negar', 'tudo_bem', 'quem_criou_a_tais', 'tem_wpp', 'cumprimentar', 'despedir', 'expressoes_indesejadas'\n",
      "\t- entity examples: 0 (0 distinct entities)\n",
      "\t- found entities: \n",
      "\n",
      "INFO:rasa_nlu.training_data.loading:Training data format of ../../bot/data/intents/salic.md is md\n",
      "INFO:rasa_nlu.training_data.training_data:Training data stats: \n",
      "\t- intent examples: 144 (14 distinct intents)\n",
      "\t- Found intents: 'salic_cadastro_proponente', 'salic_preenchimento', 'salic_cadastro_usuario', 'salic_preenchimento_campo_custo_auditoria', 'salic_erros_vinculo_cpf_cnpj', 'salic_recuperacao_de_senha', 'salic_erros', 'salic_erros_achar_proposta', 'salic_preenchimento_cadastro_rubrica_advogado_contador', 'salic_erros_planilha_desapareceu', 'salic_preenchimento_cadastro_agencia_bancaria', 'salic_preenchimento_valor_ingresso', 'salic_erros_salvamento_de_proposta', 'salic_preenchimento_vinculo_cpf_proposta'\n",
      "\t- entity examples: 0 (0 distinct entities)\n",
      "\t- found entities: \n",
      "\n",
      "INFO:rasa_nlu.training_data.training_data:Training data stats: \n",
      "\t- intent examples: 1492 (83 distinct intents)\n",
      "\t- Found intents: 'processo_reativacao_de_proposta', 'salic_cadastro_usuario', 'lei_rouanet_apresentacao_de_proposta', 'captacao_como_captar', 'definicao_vinculada', 'salic_preenchimento_valor_ingresso', 'lei_rouanet_beneficios_incentivo_projetos_culturais', 'processo_prazo_desistir_recurso', 'lei_rouanet_valores_pagamento_caches', 'salic_preenchimento_vinculo_cpf_proposta', 'processo_prazo_envio_cnae', 'lei_rouanet_quem_pode_incentivar', 'salic_recuperacao_de_senha', 'processo_prazo_prestacao_contas', 'lei_rouanet_valor_maximo_pessoa_fisica', 'lei_rouanet_analise_de_admissibilidade', 'definicao_tais', 'processo_prazo_diligencias', 'definicao_minc', 'o_que_sei_falar', 'salic_preenchimento_campo_custo_auditoria', 'definicao_projeto', 'definicao_cnic', 'salic_erros', 'lei_rouanet_remuneracao_proponente', 'elogios', 'lei_rouanet_receber_incetivo_de_parentes', 'out_of_scope', 'processo_prazo_analise_proposta', 'lei_rouanet_comercializacao_de_ingressos', 'processo_analise_de_resultados', 'salic_erros_achar_proposta', 'salic_erros_vinculo_cpf_cnpj', 'afirmar', 'processo_prazo_analise_tecnica', 'lei_rouanet_quem_pode_ser_proponente', 'definicao_sefic', 'negar', 'salic_preenchimento_cadastro_agencia_bancaria', 'definicao_salic', 'captacao_quando_captar', 'lei_rouanet_analise_tecnica', 'lei_rouanet_decisao_final', 'captacao', 'erro_resposta_utter', 'quem_criou_a_tais', 'tudo_bem', 'lei_rouanet_valor_maximo_projeto', 'processo_aprovacao', 'processo_prazo', 'processo_como_funciona', 'lei_rouanet_quantidade_de_projetos', 'despedir', 'processo_prazo_desarquivar', 'salic_preenchimento', 'processo_prazo_readequacao', 'lei_rouanet_divulgacao_patrocinio', 'processo_prazo_apresentar_proposta', 'lei_rouanet_porcentagem_de_deducao_do_imposto', 'lei_rouanet_origem_do_dinheiro', 'lei_rouanet_etapas_aprovacao_projeto', 'lei_rouanet_analise_pela_cnic', 'processo_preenchimento', 'tem_wpp', 'processo_prazo_periodo_captacao', 'cumprimentar', 'lei_rouanet_valor_maximo_pessoa_juridica', 'salic_erros_salvamento_de_proposta', 'processo_definicao_etapas', 'processo_admissibilidade', 'salic_cadastro_proponente', 'lei_rouanet_o_que_eh', 'diga_mais', 'lei_rouanet_denuncia', 'lei_rouanet_valor_maximo_geral', 'lei_rouanet_democratizacao', 'lei_rouanet_promocao_de_marca', 'definicao_proponente', 'processo_execucao', 'definicao_proposta', 'salic_preenchimento_cadastro_rubrica_advogado_contador', 'salic_erros_planilha_desapareceu', 'expressoes_indesejadas'\n",
      "\t- entity examples: 17 (1 distinct entities)\n",
      "\t- found entities: 'lei_rouanet'\n",
      "\n",
      "INFO:rasa_nlu.evaluate:Intent evaluation results:\n",
      "INFO:rasa_nlu.evaluate:Intent Evaluation: Only considering those 1492 examples that have a defined intent out of 1492 examples\n",
      "INFO:rasa_nlu.evaluate:F1-Score:  0.9986595174262735\n",
      "INFO:rasa_nlu.evaluate:Precision: 0.9986595174262735\n",
      "INFO:rasa_nlu.evaluate:Accuracy:  0.9986595174262735\n",
      "INFO:rasa_nlu.evaluate:Classification report: \n",
      "                                                        precision    recall  f1-score   support\n",
      "\n",
      "                                               afirmar       1.00      1.00      1.00        20\n",
      "                                              captacao       1.00      1.00      1.00         3\n",
      "                                  captacao_como_captar       1.00      1.00      1.00        21\n",
      "                                captacao_quando_captar       1.00      1.00      1.00        19\n",
      "                                          cumprimentar       1.00      1.00      1.00        16\n",
      "                                        definicao_cnic       1.00      1.00      1.00         7\n",
      "                                        definicao_minc       1.00      1.00      1.00        10\n",
      "                                     definicao_projeto       1.00      1.00      1.00         6\n",
      "                                  definicao_proponente       1.00      1.00      1.00         5\n",
      "                                    definicao_proposta       1.00      1.00      1.00         4\n",
      "                                       definicao_salic       1.00      1.00      1.00         5\n",
      "                                       definicao_sefic       1.00      1.00      1.00         8\n",
      "                                        definicao_tais       1.00      1.00      1.00        29\n",
      "                                   definicao_vinculada       1.00      1.00      1.00        12\n",
      "                                              despedir       1.00      1.00      1.00        19\n",
      "                                             diga_mais       1.00      1.00      1.00        15\n",
      "                                               elogios       1.00      1.00      1.00         4\n",
      "                                   erro_resposta_utter       1.00      1.00      1.00        12\n",
      "                                expressoes_indesejadas       1.00      1.00      1.00       328\n",
      "                lei_rouanet_analise_de_admissibilidade       1.00      1.00      1.00         4\n",
      "                         lei_rouanet_analise_pela_cnic       1.00      1.00      1.00         4\n",
      "                           lei_rouanet_analise_tecnica       1.00      1.00      1.00        10\n",
      "                  lei_rouanet_apresentacao_de_proposta       1.00      1.00      1.00         4\n",
      "   lei_rouanet_beneficios_incentivo_projetos_culturais       1.00      1.00      1.00        21\n",
      "              lei_rouanet_comercializacao_de_ingressos       1.00      1.00      1.00        19\n",
      "                             lei_rouanet_decisao_final       1.00      1.00      1.00         4\n",
      "                            lei_rouanet_democratizacao       1.00      1.00      1.00        20\n",
      "                                  lei_rouanet_denuncia       1.00      1.00      1.00        21\n",
      "                     lei_rouanet_divulgacao_patrocinio       1.00      1.00      1.00        21\n",
      "                  lei_rouanet_etapas_aprovacao_projeto       1.00      1.00      1.00        15\n",
      "                                  lei_rouanet_o_que_eh       1.00      1.00      1.00        20\n",
      "                        lei_rouanet_origem_do_dinheiro       1.00      1.00      1.00        28\n",
      "         lei_rouanet_porcentagem_de_deducao_do_imposto       1.00      1.00      1.00        24\n",
      "                         lei_rouanet_promocao_de_marca       1.00      1.00      1.00        22\n",
      "                    lei_rouanet_quantidade_de_projetos       1.00      1.00      1.00        20\n",
      "                      lei_rouanet_quem_pode_incentivar       1.00      1.00      1.00        24\n",
      "                  lei_rouanet_quem_pode_ser_proponente       1.00      1.00      1.00        45\n",
      "              lei_rouanet_receber_incetivo_de_parentes       1.00      1.00      1.00        22\n",
      "                    lei_rouanet_remuneracao_proponente       1.00      1.00      1.00        22\n",
      "                        lei_rouanet_valor_maximo_geral       1.00      1.00      1.00        17\n",
      "                lei_rouanet_valor_maximo_pessoa_fisica       1.00      1.00      1.00        13\n",
      "              lei_rouanet_valor_maximo_pessoa_juridica       1.00      1.00      1.00        12\n",
      "                      lei_rouanet_valor_maximo_projeto       1.00      1.00      1.00        35\n",
      "                  lei_rouanet_valores_pagamento_caches       1.00      1.00      1.00        20\n",
      "                                                 negar       1.00      1.00      1.00        20\n",
      "                                       o_que_sei_falar       1.00      1.00      1.00        16\n",
      "                                          out_of_scope       1.00      1.00      1.00        10\n",
      "                              processo_admissibilidade       1.00      1.00      1.00         8\n",
      "                        processo_analise_de_resultados       1.00      1.00      1.00        18\n",
      "                                    processo_aprovacao       1.00      1.00      1.00        13\n",
      "                                processo_como_funciona       0.94      0.94      0.94        18\n",
      "                             processo_definicao_etapas       1.00      1.00      1.00         6\n",
      "                                     processo_execucao       1.00      1.00      1.00        10\n",
      "                                        processo_prazo       1.00      1.00      1.00        10\n",
      "                       processo_prazo_analise_proposta       1.00      1.00      1.00        11\n",
      "                        processo_prazo_analise_tecnica       1.00      1.00      1.00        12\n",
      "                    processo_prazo_apresentar_proposta       0.95      0.95      0.95        22\n",
      "                            processo_prazo_desarquivar       1.00      1.00      1.00         6\n",
      "                       processo_prazo_desistir_recurso       1.00      1.00      1.00        24\n",
      "                            processo_prazo_diligencias       1.00      1.00      1.00        13\n",
      "                             processo_prazo_envio_cnae       1.00      1.00      1.00        11\n",
      "                       processo_prazo_periodo_captacao       1.00      1.00      1.00         9\n",
      "                       processo_prazo_prestacao_contas       1.00      1.00      1.00        15\n",
      "                            processo_prazo_readequacao       1.00      1.00      1.00        12\n",
      "                                processo_preenchimento       1.00      1.00      1.00         6\n",
      "                       processo_reativacao_de_proposta       1.00      1.00      1.00        16\n",
      "                                     quem_criou_a_tais       1.00      1.00      1.00        18\n",
      "                             salic_cadastro_proponente       1.00      1.00      1.00         9\n",
      "                                salic_cadastro_usuario       1.00      1.00      1.00        10\n",
      "                                           salic_erros       1.00      1.00      1.00         8\n",
      "                            salic_erros_achar_proposta       1.00      1.00      1.00         8\n",
      "                      salic_erros_planilha_desapareceu       1.00      1.00      1.00        12\n",
      "                    salic_erros_salvamento_de_proposta       1.00      1.00      1.00        10\n",
      "                          salic_erros_vinculo_cpf_cnpj       1.00      1.00      1.00         9\n",
      "                                   salic_preenchimento       1.00      1.00      1.00         8\n",
      "         salic_preenchimento_cadastro_agencia_bancaria       1.00      1.00      1.00        17\n",
      "salic_preenchimento_cadastro_rubrica_advogado_contador       1.00      1.00      1.00        11\n",
      "             salic_preenchimento_campo_custo_auditoria       1.00      1.00      1.00         7\n",
      "                    salic_preenchimento_valor_ingresso       1.00      1.00      1.00        11\n",
      "              salic_preenchimento_vinculo_cpf_proposta       1.00      1.00      1.00         8\n",
      "                            salic_recuperacao_de_senha       1.00      1.00      1.00        16\n",
      "                                               tem_wpp       1.00      1.00      1.00        23\n",
      "                                              tudo_bem       1.00      1.00      1.00        11\n",
      "\n",
      "                                             micro avg       1.00      1.00      1.00      1492\n",
      "                                             macro avg       1.00      1.00      1.00      1492\n",
      "                                          weighted avg       1.00      1.00      1.00      1492\n",
      "\n"
     ]
    },
    {
     "name": "stderr",
     "output_type": "stream",
     "text": [
      "INFO:rasa_nlu.evaluate:Model prediction errors saved to errors.json.\n",
      "INFO:rasa_nlu.evaluate:Entity evaluation results:\n",
      "INFO:rasa_nlu.evaluate:Evaluation for entity extractor: ner_crf \n",
      "INFO:rasa_nlu.evaluate:F1-Score:  0.9991955868865754\n",
      "INFO:rasa_nlu.evaluate:Precision: 0.9992211877261385\n",
      "INFO:rasa_nlu.evaluate:Accuracy:  0.9992205767731879\n",
      "INFO:rasa_nlu.evaluate:Classification report: \n",
      "              precision    recall  f1-score   support\n",
      "\n",
      " lei_rouanet       1.00      0.88      0.94        33\n",
      "   no_entity       1.00      1.00      1.00      5099\n",
      "\n",
      "   micro avg       1.00      1.00      1.00      5132\n",
      "   macro avg       1.00      0.94      0.97      5132\n",
      "weighted avg       1.00      1.00      1.00      5132\n",
      "\n"
     ]
    }
   ],
   "source": [
    "from rasa_nlu.evaluate import run_evaluation\n",
    "evaluation = run_evaluation('../../bot/data/intents/', model_directory)"
   ]
  },
  {
   "cell_type": "markdown",
   "metadata": {},
   "source": [
    "## Problemas encontrados:\n",
    "\n",
    "Veja o relatorio gerado pela célula abaixo, nele é possível identificar facilmente as intents com problemas de na previsão, isso significa que os exemplos dos textos de usuário dessas intents não estão bem definidos o que faz o bot entrar em confusão.\n",
    "\n",
    "Para uma intent ser confundida com outra, significa que estão muito siilares entre si, uma melhor forma de concertar este erro é definido exemplos mais distintos para cada uma delas."
   ]
  },
  {
   "cell_type": "code",
   "execution_count": 8,
   "metadata": {},
   "outputs": [
    {
     "name": "stdout",
     "output_type": "stream",
     "text": [
      "Intent com erros de previsão: processo_como_funciona\n",
      "Intent com qual está sendo confundida: processo_prazo_apresentar_proposta\n",
      "Texto em que ocorre o erro: enviar proposta\n",
      "Confiança da previsão: 0.7544613480567932\n",
      "\n",
      "Intent com erros de previsão: processo_prazo_apresentar_proposta\n",
      "Intent com qual está sendo confundida: processo_como_funciona\n",
      "Texto em que ocorre o erro: enviar projeto\n",
      "Confiança da previsão: 0.8119997382164001\n",
      "\n"
     ]
    }
   ],
   "source": [
    "import json\n",
    "\n",
    "try:\n",
    "    f = open('errors.json', 'r')\n",
    "    errors_list = json.load(f)\n",
    "\n",
    "    for error in errors_list:\n",
    "        print('Intent com erros de previsão: {}'.format(error['intent']))\n",
    "        print('Intent com qual está sendo confundida: {}'.format(error['intent_prediction']['name']))\n",
    "        print('Texto em que ocorre o erro: {}'.format(error['text']))\n",
    "        print('Confiança da previsão: {}'.format(error['intent_prediction']['confidence']))\n",
    "        print()\n",
    "except(FileNotFoundError):\n",
    "    print('Não foi encontrado nenhum erro de confusão entre as intents')\n",
    "    \n"
   ]
  },
  {
   "cell_type": "markdown",
   "metadata": {
    "colab_type": "text",
    "id": "1xeXgpdwzOAl"
   },
   "source": [
    "### Avaliação do modelo de NLU treinado\n",
    "\n",
    "Caso queira testar mensagens específicas mande a mensagem na célula seguinte:"
   ]
  },
  {
   "cell_type": "code",
   "execution_count": 9,
   "metadata": {},
   "outputs": [
    {
     "name": "stdout",
     "output_type": "stream",
     "text": [
      "Escreva uma frase para testar a previsão do bot: o que é a lei Rouanet?\n",
      "{\n",
      "  \"intent\": {\n",
      "    \"name\": \"lei_rouanet_o_que_eh\",\n",
      "    \"confidence\": 0.9461674690246582\n",
      "  },\n",
      "  \"entities\": [],\n",
      "  \"intent_ranking\": [\n",
      "    {\n",
      "      \"name\": \"lei_rouanet_o_que_eh\",\n",
      "      \"confidence\": 0.9461674690246582\n",
      "    },\n",
      "    {\n",
      "      \"name\": \"salic_preenchimento_campo_custo_auditoria\",\n",
      "      \"confidence\": 0.305629163980484\n",
      "    },\n",
      "    {\n",
      "      \"name\": \"lei_rouanet_analise_tecnica\",\n",
      "      \"confidence\": 0.2544594407081604\n",
      "    },\n",
      "    {\n",
      "      \"name\": \"processo_prazo_prestacao_contas\",\n",
      "      \"confidence\": 0.2459997534751892\n",
      "    },\n",
      "    {\n",
      "      \"name\": \"lei_rouanet_etapas_aprovacao_projeto\",\n",
      "      \"confidence\": 0.2458021342754364\n",
      "    },\n",
      "    {\n",
      "      \"name\": \"processo_prazo_analise_tecnica\",\n",
      "      \"confidence\": 0.2428033947944641\n",
      "    },\n",
      "    {\n",
      "      \"name\": \"salic_preenchimento_vinculo_cpf_proposta\",\n",
      "      \"confidence\": 0.23044267296791077\n",
      "    },\n",
      "    {\n",
      "      \"name\": \"salic_cadastro_proponente\",\n",
      "      \"confidence\": 0.22884619235992432\n",
      "    },\n",
      "    {\n",
      "      \"name\": \"lei_rouanet_valor_maximo_projeto\",\n",
      "      \"confidence\": 0.21946537494659424\n",
      "    },\n",
      "    {\n",
      "      \"name\": \"erro_resposta_utter\",\n",
      "      \"confidence\": 0.206415057182312\n",
      "    }\n",
      "  ],\n",
      "  \"text\": \"o que \\u00e9 a lei Rouanet?\"\n",
      "}\n"
     ]
    }
   ],
   "source": [
    "a = input(\"Escreva uma frase para testar a previsão do bot: \")\n",
    "pprint(interpreter.parse(a))"
   ]
  },
  {
   "cell_type": "code",
   "execution_count": null,
   "metadata": {},
   "outputs": [],
   "source": []
  }
 ],
 "metadata": {
  "colab": {
   "collapsed_sections": [
    "y4miuS-TqYcn",
    "BBF6Nqi9scQE",
    "Fs3nOUzBsqrG",
    "5MnGuFRpzzBh"
   ],
   "default_view": {},
   "name": "Building a Simple Bot with Rasa Stack - Tutorial",
   "provenance": [
    {
     "file_id": "1GutDkDXmfU-nRzNH7Pxxx8YpdvLUw9LO",
     "timestamp": 1521183725373
    }
   ],
   "toc_visible": true,
   "version": "0.3.2",
   "views": {}
  },
  "kernelspec": {
   "display_name": "Python 3",
   "language": "python",
   "name": "python3"
  },
  "language_info": {
   "codemirror_mode": {
    "name": "ipython",
    "version": 3
   },
   "file_extension": ".py",
   "mimetype": "text/x-python",
   "name": "python",
   "nbconvert_exporter": "python",
   "pygments_lexer": "ipython3",
   "version": "3.6.8"
  }
 },
 "nbformat": 4,
 "nbformat_minor": 1
}
