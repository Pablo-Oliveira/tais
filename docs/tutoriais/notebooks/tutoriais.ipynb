{
 "cells": [
  {
   "cell_type": "markdown",
   "metadata": {},
   "source": [
    "---\n",
    "layout: page\n",
    "permalink: /tutoriais/\n",
    "title: Tutoriais\n",
    "---\n",
    "\n",
    "# Objetivo\n",
    "\n",
    "Chatbots de FAQ e serviços possuem a capacidade de responder perguntas mais frequentes e se contectar a serviços externos\n",
    "para desempenhar tarefas específicas. Atualmente, chatbot de FAQ é o domínio mais usado para assistentes de diálogos.\n",
    "Porém, o desenvolvimento de um projeto de Chatbot requer um time multidisciplinar (fullstack) composto por diversas especialidades\n",
    " tais como designer de diálogos (roteirista de chatbot), cientista de dados, engenheiros de software, DevOps, estrategista de \n",
    " negócio e experts da área do domínio. Isso faz o projeto de chatbots potencialmente longo e caro. \n",
    "\n",
    "Processamento de Linguagem natural é particularmente desafiador para linguas que não seja o inglês devido a escassez de datasets\n",
    "de treinamento. A fim de diminuir a curva de aprendizado, suprir a carência de especialistas, diminuindo assim o custo e tempo de\n",
    "projeto de chatbots, faremos diversos tutoriais com o intuito de auxiliar comunidade interessada em desenvolver projetos de chatbots\n",
    "baseados no boilerplate.\n",
    "\n",
    "# Temas\n",
    "## Chatbot (Boilerplate) e DevOps\n",
    "\n",
    "Lista de Tutoriais\n",
    "\n",
    "## Chatbot (Boilerplate) e Ciência de Dados\n",
    "\n",
    "Lista de Tutoriais\n",
    "\n",
    "## Chatbot (Boilerplate) e Engenharia de Software\n",
    " \n",
    " Lista de Tutoriais\n",
    " \n",
    "## Chatbot (Boilerplate) e Design de Interação\n",
    " \n",
    " Lista de Tutoriais"
   ]
  }
 ],
 "metadata": {},
 "nbformat": 4,
 "nbformat_minor": 2
}
