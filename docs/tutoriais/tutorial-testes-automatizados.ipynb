{
 "cells": [
  {
   "cell_type": "markdown",
   "metadata": {
    "lang": "pt"
   },
   "source": [
    "# Tutorial de Testes Automatizados\n",
    " \n",
    "Ao construir um bot com o framework Rasa, deve se ter em mente como funciona a construção do diálogo do ponto de vista do bot, como ele processa todas as informações que são jogadas. O bot agrega uma concepção de um ser que interage e que se mostra \"pensante\", mas os desenvolvedores devem ter noção de como um bot age, como ele constrói todas suas previsões de diálogo e as usa a seu favor.\n",
    " \n",
    "Imagine que começamos a fazer um bot qualquer, com um escopo definido, ao construirmos todas as estruturas necessárias para que ele responda e entenda, na verdade estaremos construindo a sua rede neural, que na parte humana seria a associação que fazemos da resposta a uma pergunta. Dessa forma, a rede neural é baseada na inserção de conteúdo e a ligação do mesmo a interação com o usuário, por exemplo no Boiler-Plate, ao colocarmos cada vez mais assunto, estamos expandindo nosso escopo e deixando nosso bot mais \"inteligente\". Em suma, as redes neurais são construídas a partir do treinamento do bot, que possibilita-o prever respostas, sintetizando os fluxos possíveis mediante a intenção do usuário.\n",
    " \n",
    "No Rasa isso é feito de uma forma muito simples, ao criarmos novas intents e stories, damos abertura ao nosso bot dialogar sobre mais assuntos. Infelizmente temos um grande problema nesse quesito, ao inserirmos mais conteúdo, estamos abrindo espaço para que nosso bot esteja confundindo algum fluxo com outro.\n",
    " \n",
    "Para inserirmos mais conteúdo em nosso bot de forma segura, utilizamos os testes automatizados que identifica se o novo conteúdo foi interferido ou interferiu em outro fluxo, acarretando em uma validação de fluxo e trazendo uma evolução muito mais fácil em estrutura e conteúdo.\n",
    " \n",
    "Para construirmos os testes devemos primeiro escolher um fluxo no qual queremos tratar, depois estruturar uma conversa para esse fluxo, que nos permite avaliar todo o escopo que escolhemos. Por exemplo, no BoilerPlate temos a intent esporte e queremos ter a certeza que ela sempre estará funcionando. Nesse contexto, podemos gerar um diálogo que condiz com o que queremos:"
   ]
  },
  {
   "cell_type": "markdown",
   "metadata": {
    "lang": "en"
   },
   "source": [
    "# Automated Testing Tutorial\n",
    " \n",
    "When building a bot with the Rasa framework, you should keep in mind how dialog building works from the bot's point of view, how it processes all the information that is thrown. The bot adds a conception of an interacting being that is \"thinking\", but developers should be aware of how a bot acts, how it builds all its dialog predictions and uses them to its advantage.\n",
    " \n",
    "Imagine that we started to make any bot, with a definite scope, when we build all the structures necessary for it to respond and understand, we are actually building its neural network, which in humans would be the association we make of answering a question. . Thus, the neural network is based on the insertion of content and the connection of the same with the user interaction, for example in Boiler-Plate, as we put more and more subject, we are expanding our scope and making our bot \"smarter\". In short, neural networks are built from bot training, which enables it to predict responses by synthesizing the possible flows upon user intent.\n",
    " \n",
    "In Rasa this is done in a very simple way, by creating new intents and stories, we open our bot dialogue on more subjects. Unfortunately we have a big problem in this regard, as we insert more content, we are making room for our bot to be confusing some flow with another.\n",
    " \n",
    "To safely insert more content into our bot, we use automated testing that identifies whether new content has interfered with or interfered with another stream, resulting in stream validation and a much easier evolution in structure and content.\n",
    " \n",
    "To build the tests we must first choose a flow we want to address, then structure a conversation for that flow that allows us to evaluate the entire scope we choose. For example, in BoilerPlate we have intent sport and we want to make sure that it is always working. In this context, we can generate a dialogue that matches what we want:"
   ]
  },
  {
   "cell_type": "code",
   "execution_count": null,
   "metadata": {},
   "outputs": [],
   "source": [
    " Usuário\n",
    " \n",
    "- oi                                  (intent cumprimentar)\n",
    "- qual o seu jogo favorito?           (intent esporte)\n",
    "- tchau                               (intent despedir)"
   ]
  },
  {
   "cell_type": "markdown",
   "metadata": {
    "lang": "pt"
   },
   "source": [
    "Esse é um exemplo bem simples, que conseguimos tirar dele informações que confirma o fluxo que queremos e nos informa se alguma mudança ocorreu.\n",
    " \n",
    "Para construirmos o código dos testes, primeiro devemos entender que ao criarmos o fluxo que queremos temos que identificar a utter que corresponde aquela intenção:"
   ]
  },
  {
   "cell_type": "markdown",
   "metadata": {
    "lang": "en"
   },
   "source": [
    "This is a very simple example, that we get information from it that confirms the flow we want and informs us if any change has occurred.\n",
    " \n",
    "To build the test code, we must first understand that when creating the flow we want we have to identify the utter that corresponds to that intention:"
   ]
  },
  {
   "cell_type": "code",
   "execution_count": null,
   "metadata": {},
   "outputs": [],
   "source": [
    " Usuário                              Bot\n",
    " \n",
    "- oi                            ->     utter_cumprimentar\n",
    "- qual o seu jogo favorito?     ->     utter_esporte                   \n",
    "- tchau                         ->     utter_despedir"
   ]
  },
  {
   "cell_type": "markdown",
   "metadata": {
    "lang": "pt"
   },
   "source": [
    "Agora fazer o código fica bem mais fácil:"
   ]
  },
  {
   "cell_type": "markdown",
   "metadata": {
    "lang": "en"
   },
   "source": [
    "Now making the code is much easier:"
   ]
  },
  {
   "cell_type": "code",
   "execution_count": null,
   "metadata": {},
   "outputs": [],
   "source": [
    "## end-to-end story 1\n",
    "* cumprimentar: ola\n",
    "  - utter_cumprimentar\n",
    "* esporte: qual o seu jogo favorito?\n",
    "  - utter_esporte\n",
    "* despedir: tchau\n",
    "  - utter_despedir"
   ]
  },
  {
   "cell_type": "markdown",
   "metadata": {
    "lang": "pt"
   },
   "source": [
    "O código é um arquivo MarkDown composto por um título que indica que estamos trabalhando com arquivos de ponta a ponta, em seguida dizemos a intent e o texto pré estabelecido para o teste, embaixo dizemos a utter que corresponde ao texto.\n",
    " \n",
    "Esse código está localizado no coach/data/e2e, nele concentramos todos os arquivos de teste, como boa prática é comum começarmos o nome do arquivo de \"e2e\".\n",
    " \n",
    "## Executando os arquivos e2e\n",
    " \n",
    "Todas as informações de como executar os arquivos de teste está descrito no README do [BoilerPlate](https://github.com/lappis-unb/rasa-ptbr-boilerplate)\n",
    "\n",
    "## Entendendo os resultados\n",
    "\n",
    "Sabe-se que o teste do Rasa nos possibilita avaliar o fluxo de ponta a ponta, com as intenções pré definidas pelo mesmo, desta forma, ele nos disponibiliza uma forma de visualização desse teste no qual ele nos fornece:"
   ]
  },
  {
   "cell_type": "markdown",
   "metadata": {
    "lang": "en"
   },
   "source": [
    "The code is a MarkDown file consisting of a title that indicates that we are working with end-to-end files, then we say intent and the pre-set text for the test, below we tell the utter that corresponds to the text.\n",
    " \n",
    "This code is located in coach / data / e2e, where we concentrate all the test files, as it is good practice to start by naming the file \"e2e\".\n",
    " \n",
    "## Running the e2e Files\n",
    " \n",
    "All information on how to run the test files is described in the [BoilerPlate] README (https://github.com/lappis-unb/rasa-en-brilerplate)\n",
    "\n",
    "## Understanding the Results\n",
    "\n",
    "It is known that the Rasa test allows us to evaluate the end-to-end flow, with the intentions predefined by it, so it provides us with a way of visualizing this test in which it provides us:"
   ]
  },
  {
   "cell_type": "code",
   "execution_count": null,
   "metadata": {},
   "outputs": [],
   "source": [
    "\"precision\" - quantidade de utters_esperadas divididas pela quantidade de utters_ocorridas\n",
    "\"recall\" - porcentagem de respostas que corresponderam a utter esperada.\n",
    "\"f1-score\" - a porcentagem de relação da precisão com o recall, sendo (2x precisão x recall) / (precisão + recall)\n",
    "\"support\" - o tanto de vezes que teste utiliza cada variável."
   ]
  },
  {
   "cell_type": "markdown",
   "metadata": {
    "lang": "pt"
   },
   "source": [
    "Matriz:\n",
    "\n",
    "Desses dados gera uma matriz pelo script que permite visualizar a distribuição de confiança para todas as previsões\n",
    "\n",
    "Essa matriz nos permite visualizar a relação entre as utters_esperadas (criadas pelos testes) e as utters_ocorridas (as que realmente foram respondidas mediante ao fluxo), priorizando o fluxo em que a conversa segue e a intenções que as correspondem, como pode ser visto no exemplo acima onde todas as utters_esperadas correlacionam com as utters_ocorridas. Forma-se uma matriz quadrada onde sua coluna 0 e linha 0 são respectivamente, a quantidade de utters_esperadas que correlacionaram com as utters ocorridas + as utters_esperadas que não resultaram em nenhum valor e a action_list (o numero de intenções no teste).\n",
    "\n",
    "Há apenas uma exceção nesse quesito, quando houver um texto que retorne o fallback, ele criará uma matriz onde a coluna 0 e linha 0 são respectivamente, fallback e NONE. Isso pode ser visto na imagem abaixo no qual o texto retornou um fallback e a relação com a utter_esperada na ultima linha.\n",
    "\n",
    "Pode-se dizer que as linhas são a utters_esperadas e as colunas são as utters_ocorridas, e os números são as quantidades de vezes que uma utter corresponde a outra ou deixa de corresponder naquele fluxo da conversa. Quando as utters_esperadas são relacionadas com as corretas utters_ocorridas este número irá ficar na diagonal principal sinalizando a quantidade de vezes de correspondência.\n",
    "\n",
    "Na matriz pode-se perceber que existem dois números fora da diagonal principal, eles correspondem a utters que não corresponderam a sua respectiva resposta esperada. No número fora da diagonal na linha 0, conclui-se que é uma ação que ocorreu de algum utter que não foi esperada, já no segundo número fora da diagonal é uma utter esperada que não correspondeu a utter_ocorrida."
   ]
  },
  {
   "cell_type": "markdown",
   "metadata": {
    "lang": "en"
   },
   "source": [
    "Matrix:\n",
    "\n",
    "From this data generates a matrix by script that allows you to view the confidence distribution for all forecasts.\n",
    "\n",
    "This matrix allows us to visualize the relationship between the expected utters _(created by the tests) and the occurred utters_ (the ones that were actually answered by the flow), prioritizing the flow in which the conversation follows and the intentions that follow them. match, as seen in the example above where all expected _utters correlate with the occurred_ utters. A square matrix is ​​formed where its column 0 and row 0 are respectively, the number of expected utters _that correlated with the occurred utters + the expected utters_ that resulted in no value and the action _list (the number of intentions in the test).\n",
    "\n",
    "There is only one exception in this regard, when there is text that returns fallback, it will create an array where column 0 and row 0 are respectively fallback and NONE. This can be seen in the image below where the text returned a fallback and the relationship to utter_ expected on the last line.\n",
    "\n",
    "You might say that the rows are the expected utters _and the columns are the utters_ occurred, and the numbers are the number of times that one utter matches another or no longer matches that stream of conversation. When the expected utters _are related to the correct utters_ occurred this number will be on the main diagonal signaling the number of times to match.\n",
    "\n",
    "In the matrix you can see that there are two numbers outside the main diagonal, they correspond to utters that do not match their expected response. In the out-of-diagonal number on line 0, it is concluded that it is an action that occurred from some unanticipated utter, while in the second out-of-diagonal number is an expected utter that did not correspond to utter_ocorrida."
   ]
  }
 ],
 "metadata": {
  "kernelspec": {
   "display_name": "Python 3",
   "language": "python",
   "name": "python3"
  },
  "language_info": {
   "codemirror_mode": {
    "name": "ipython",
    "version": 3
   },
   "file_extension": ".py",
   "mimetype": "text/x-python",
   "name": "python",
   "nbconvert_exporter": "python",
   "pygments_lexer": "ipython3",
   "version": "3.6.8"
  },
  "nbTranslate": {
   "displayLangs": [
    "en"
   ],
   "hotkey": "alt-t",
   "langInMainMenu": true,
   "sourceLang": "pt",
   "targetLang": "en",
   "useGoogleTranslate": true
  }
 },
 "nbformat": 4,
 "nbformat_minor": 2
}
